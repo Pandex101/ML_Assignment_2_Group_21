{
  "nbformat": 4,
  "nbformat_minor": 0,
  "metadata": {
    "colab": {
      "provenance": [],
      "include_colab_link": true
    },
    "kernelspec": {
      "name": "python3",
      "display_name": "Python 3"
    },
    "language_info": {
      "name": "python"
    }
  },
  "cells": [
    {
      "cell_type": "markdown",
      "metadata": {
        "id": "view-in-github",
        "colab_type": "text"
      },
      "source": [
        "<a href=\"https://colab.research.google.com/github/Pandex101/ML_Assignment_2_Group_21/blob/main/S3942586_S4006324.ipynb\" target=\"_parent\"><img src=\"https://colab.research.google.com/assets/colab-badge.svg\" alt=\"Open In Colab\"/></a>"
      ]
    },
    {
      "cell_type": "markdown",
      "source": [
        "---\n",
        "# <div align = \"center\"></div>\n",
        "# <div align = \"center\"><font color='green'> COSC 2673/2793 |  Machine Learning | Assignment 2 </font></div>\n",
        "# <div align=\"center\"> <font color='orange'> Group 21                        </font></div>\n",
        "## <div align = \"center\"> <font color='red'> Nikhil Sanjay - S3942586                              </font></div>\n",
        "## <div align=\"center\"> <font color='red'> Aryan Mehra - S4006324                        </font></div>\n",
        "# <div align = \"center\"></div>\n",
        "---"
      ],
      "metadata": {
        "id": "rRgh-UiDuX3Z"
      }
    },
    {
      "cell_type": "markdown",
      "source": [
        "## Problem Statement\n",
        "the problem statement"
      ],
      "metadata": {
        "id": "iIa_EXRRwbtJ"
      }
    },
    {
      "cell_type": "markdown",
      "source": [
        "## Data Splitting, and EDA\n",
        "\n",
        "data splitting and eda"
      ],
      "metadata": {
        "id": "XsjEI1jPwqx8"
      }
    },
    {
      "cell_type": "code",
      "source": [
        "import pandas as pd\n",
        "import matplotlib.pyplot as plt\n",
        "import numpy as np\n",
        "import seaborn as sns\n",
        "from sklearn.model_selection import train_test_split\n",
        "\n",
        "# Hides Warning Messages when running\n",
        "import warnings\n",
        "warnings.filterwarnings('ignore')"
      ],
      "metadata": {
        "id": "ji1LYQlpuraS"
      },
      "execution_count": null,
      "outputs": []
    },
    {
      "cell_type": "markdown",
      "source": [
        "## Data Pre-Processing\n",
        "data pre processing"
      ],
      "metadata": {
        "id": "av456D2Fw3qg"
      }
    },
    {
      "cell_type": "code",
      "source": [
        "from sklearn.preprocessing import StandardScaler, OneHotEncoder\n",
        "from sklearn.decomposition import PCA"
      ],
      "metadata": {
        "id": "kJcYXTTryx4D"
      },
      "execution_count": null,
      "outputs": []
    },
    {
      "cell_type": "markdown",
      "source": [
        "## Baseline development ( Linear regression and Poisson Regression )\n",
        "baseline development"
      ],
      "metadata": {
        "id": "R7XQ-RA_z5On"
      }
    },
    {
      "cell_type": "code",
      "source": [
        "from sklearn.linear_model import LinearRegression, PoissonRegressor, Lasso, Ridge\n",
        "from sklearn.metrics import mean_squared_error, mean_absolute_error, r2_score, make_scorer\n",
        "from sklearn.model_selection import cross_validate"
      ],
      "metadata": {
        "id": "oFXyvJTT0I_Y"
      },
      "execution_count": null,
      "outputs": []
    },
    {
      "cell_type": "markdown",
      "source": [
        "## Polynomial regression\n",
        "polynomial regression"
      ],
      "metadata": {
        "id": "2rWALYPJ0pPU"
      }
    },
    {
      "cell_type": "code",
      "source": [
        "from sklearn.preprocessing import PolynomialFeatures"
      ],
      "metadata": {
        "id": "gXcmSnzw0sar"
      },
      "execution_count": null,
      "outputs": []
    },
    {
      "cell_type": "markdown",
      "source": [
        "## Evaluation\n",
        "evaluation"
      ],
      "metadata": {
        "id": "9Qoa5LQA0zrR"
      }
    },
    {
      "cell_type": "code",
      "source": [],
      "metadata": {
        "id": "o1qV9vJf04YN"
      },
      "execution_count": null,
      "outputs": []
    },
    {
      "cell_type": "markdown",
      "source": [
        "## Conclusion\n",
        "conclusion"
      ],
      "metadata": {
        "id": "n9dY36W30u_v"
      }
    }
  ]
}